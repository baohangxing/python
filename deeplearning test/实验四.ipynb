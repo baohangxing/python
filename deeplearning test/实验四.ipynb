{
 "cells": [
  {
   "cell_type": "code",
   "execution_count": 19,
   "metadata": {},
   "outputs": [],
   "source": [
    "import numpy as np\n",
    "import pandas as pd\n",
    "import matplotlib.pyplot as plt\n",
    "import matplotlib as mpl\n",
    "import warnings\n",
    "from sklearn import tree #决策树\n",
    "from sklearn.tree import DecisionTreeClassifier #分类树\n",
    "from sklearn.model_selection  import train_test_split#测试集和训练集\n",
    "from sklearn.pipeline import Pipeline #管道\n",
    "from sklearn.feature_selection import SelectKBest #特征选择\n",
    "from sklearn.feature_selection import chi2 #卡方统计量\n",
    "\n",
    "from sklearn.preprocessing import MinMaxScaler  #数据归一化\n",
    "from sklearn.decomposition import PCA #主成分分析\n",
    "from sklearn.model_selection import GridSearchCV #网格搜索交叉验证"
   ]
  },
  {
   "cell_type": "code",
   "execution_count": 20,
   "metadata": {},
   "outputs": [
    {
     "name": "stdout",
     "output_type": "stream",
     "text": [
      "总样本数目：150;特征属性数目:4\n"
     ]
    },
    {
     "data": {
      "text/html": [
       "<div>\n",
       "<style scoped>\n",
       "    .dataframe tbody tr th:only-of-type {\n",
       "        vertical-align: middle;\n",
       "    }\n",
       "\n",
       "    .dataframe tbody tr th {\n",
       "        vertical-align: top;\n",
       "    }\n",
       "\n",
       "    .dataframe thead th {\n",
       "        text-align: right;\n",
       "    }\n",
       "</style>\n",
       "<table border=\"1\" class=\"dataframe\">\n",
       "  <thead>\n",
       "    <tr style=\"text-align: right;\">\n",
       "      <th></th>\n",
       "      <th>0</th>\n",
       "      <th>1</th>\n",
       "      <th>2</th>\n",
       "      <th>3</th>\n",
       "      <th>4</th>\n",
       "    </tr>\n",
       "  </thead>\n",
       "  <tbody>\n",
       "    <tr>\n",
       "      <th>0</th>\n",
       "      <td>5.1</td>\n",
       "      <td>3.5</td>\n",
       "      <td>1.4</td>\n",
       "      <td>0.2</td>\n",
       "      <td>Iris-setosa</td>\n",
       "    </tr>\n",
       "    <tr>\n",
       "      <th>1</th>\n",
       "      <td>4.9</td>\n",
       "      <td>3.0</td>\n",
       "      <td>1.4</td>\n",
       "      <td>0.2</td>\n",
       "      <td>Iris-setosa</td>\n",
       "    </tr>\n",
       "    <tr>\n",
       "      <th>2</th>\n",
       "      <td>4.7</td>\n",
       "      <td>3.2</td>\n",
       "      <td>1.3</td>\n",
       "      <td>0.2</td>\n",
       "      <td>Iris-setosa</td>\n",
       "    </tr>\n",
       "    <tr>\n",
       "      <th>3</th>\n",
       "      <td>4.6</td>\n",
       "      <td>3.1</td>\n",
       "      <td>1.5</td>\n",
       "      <td>0.2</td>\n",
       "      <td>Iris-setosa</td>\n",
       "    </tr>\n",
       "    <tr>\n",
       "      <th>4</th>\n",
       "      <td>5.0</td>\n",
       "      <td>3.6</td>\n",
       "      <td>1.4</td>\n",
       "      <td>0.2</td>\n",
       "      <td>Iris-setosa</td>\n",
       "    </tr>\n",
       "  </tbody>\n",
       "</table>\n",
       "</div>"
      ],
      "text/plain": [
       "     0    1    2    3            4\n",
       "0  5.1  3.5  1.4  0.2  Iris-setosa\n",
       "1  4.9  3.0  1.4  0.2  Iris-setosa\n",
       "2  4.7  3.2  1.3  0.2  Iris-setosa\n",
       "3  4.6  3.1  1.5  0.2  Iris-setosa\n",
       "4  5.0  3.6  1.4  0.2  Iris-setosa"
      ]
     },
     "execution_count": 20,
     "metadata": {},
     "output_type": "execute_result"
    }
   ],
   "source": [
    "## 设置属性防止中文乱码\n",
    "mpl.rcParams['font.sans-serif'] = [u'SimHei']\n",
    "mpl.rcParams['axes.unicode_minus'] = False\n",
    "\n",
    "warnings.filterwarnings('ignore', category=FutureWarning)\n",
    "\n",
    "iris_feature_E = 'sepal length', 'sepal width', 'petal length', 'petal width'\n",
    "iris_feature_C = '花萼长度', '花萼宽度', '花瓣长度', '花瓣宽度'\n",
    "iris_class = 'Iris-setosa', 'Iris-versicolor', 'Iris-virginica'\n",
    "\n",
    "#读取数据\n",
    "path = 'iris.data'  \n",
    "data = pd.read_csv(path, header=None)\n",
    "x=data[list(range(4))]#获取X变量\n",
    "\n",
    "y=pd.Categorical(data[4]).codes#把Y转换成分类型的0,1,2\n",
    "print(\"总样本数目：%d;特征属性数目:%d\" % x.shape)\n",
    "\n",
    "data.head(5)"
   ]
  },
  {
   "cell_type": "code",
   "execution_count": 21,
   "metadata": {},
   "outputs": [
    {
     "name": "stdout",
     "output_type": "stream",
     "text": [
      "训练数据集样本数目：120,测试数据集样本数目：30\n"
     ]
    }
   ],
   "source": [
    "x_train1, x_test1, y_train1, y_test1 = train_test_split(x, y, \n",
    "  train_size=0.8, random_state=14)\n",
    "\n",
    "x_train, x_test, y_train, y_test = x_train1, x_test1, y_train1, y_test1\n",
    "print(\"训练数据集样本数目：%d,测试数据集样本数目：%d\" % (x_train.shape[0], x_test.shape[0]))\n",
    "\n",
    "#astype：转换数组的数据类型。\n",
    "y_train = y_train.astype(np.int)\n",
    "y_test = y_test.astype(np.int)"
   ]
  },
  {
   "cell_type": "code",
   "execution_count": 22,
   "metadata": {},
   "outputs": [
    {
     "name": "stdout",
     "output_type": "stream",
     "text": [
      "原始数据各个特征属性的调整最小值: [-1.19444444 -0.83333333 -0.18965517 -0.04166667]\n",
      "原始数据各个特征属性的缩放数据值: [0.27777778 0.41666667 0.17241379 0.41666667]\n"
     ]
    }
   ],
   "source": [
    "#数据归一化\n",
    "ss = MinMaxScaler ()\n",
    "#用标准化方法对数据进行处理并转换\n",
    "x_train = ss.fit_transform(x_train)\n",
    "x_test = ss.transform(x_test)\n",
    "print (\"原始数据各个特征属性的调整最小值:\",ss.min_)\n",
    "print (\"原始数据各个特征属性的缩放数据值:\",ss.scale_)"
   ]
  },
  {
   "cell_type": "markdown",
   "metadata": {},
   "source": [
    "# Problem A"
   ]
  },
  {
   "cell_type": "code",
   "execution_count": 12,
   "metadata": {},
   "outputs": [
    {
     "name": "stdout",
     "output_type": "stream",
     "text": [
      "[0 0 0 1 2 1 0 1 0 1 1 0 2 2 0 1 0 2 2 1 0 0 0 1 0 2 0 1 1 0]\n",
      "得分： 0.9666666666666667\n"
     ]
    }
   ],
   "source": [
    "dt_model = DecisionTreeClassifier(criterion='entropy',max_depth=5,max_features=2)\n",
    "dt_model.fit(x_train, y_train)\n",
    "predict_y = dt_model.predict(x_test)\n",
    "score = dt_model.score(x_test,y_test)\n",
    "\n",
    "print(predict_y)\n",
    "print('得分：',score)"
   ]
  },
  {
   "cell_type": "code",
   "execution_count": 6,
   "metadata": {},
   "outputs": [
    {
     "name": "stdout",
     "output_type": "stream",
     "text": [
      "max_depth= 1   max_features= 1   得分： 0.7\n",
      "max_depth= 1   max_features= 2   得分： 0.7\n",
      "max_depth= 1   max_features= 3   得分： 0.7\n",
      "max_depth= 1   max_features= 4   得分： 0.7\n",
      "max_depth= 2   max_features= 1   得分： 0.9666666666666667\n",
      "max_depth= 2   max_features= 2   得分： 0.9666666666666667\n",
      "max_depth= 2   max_features= 3   得分： 0.9666666666666667\n",
      "max_depth= 2   max_features= 4   得分： 0.9666666666666667\n",
      "max_depth= 3   max_features= 1   得分： 1.0\n",
      "max_depth= 3   max_features= 2   得分： 1.0\n",
      "max_depth= 3   max_features= 3   得分： 0.9666666666666667\n",
      "max_depth= 3   max_features= 4   得分： 0.9666666666666667\n",
      "max_depth= 4   max_features= 1   得分： 0.9333333333333333\n",
      "max_depth= 4   max_features= 2   得分： 0.9666666666666667\n",
      "max_depth= 4   max_features= 3   得分： 0.9666666666666667\n",
      "max_depth= 4   max_features= 4   得分： 0.9666666666666667\n",
      "max_depth= 5   max_features= 1   得分： 0.8666666666666667\n",
      "max_depth= 5   max_features= 2   得分： 0.9666666666666667\n",
      "max_depth= 5   max_features= 3   得分： 0.9666666666666667\n",
      "max_depth= 5   max_features= 4   得分： 0.9666666666666667\n"
     ]
    }
   ],
   "source": [
    "def getscore(a,b):\n",
    "    dt_model = DecisionTreeClassifier(max_depth=a,max_features=b)\n",
    "    dt_model.fit(x_train, y_train)\n",
    "    score = dt_model.score(x_test,y_test)\n",
    "\n",
    "    print('max_depth=',a,'  max_features=',b,'  得分：',score)\n",
    "    \n",
    "a=1\n",
    "while(a<=5):\n",
    "    b=1\n",
    "    while(b<=4):\n",
    "        getscore(a,b)\n",
    "        b=b+1\n",
    "    a=a+1\n",
    "    "
   ]
  },
  {
   "cell_type": "code",
   "execution_count": 17,
   "metadata": {},
   "outputs": [
    {
     "data": {
      "image/png": "[encoded data removed]",
      "text/plain": [
       "<Figure size 432x288 with 1 Axes>"
      ]
     },
     "metadata": {
      "needs_background": "light"
     },
     "output_type": "display_data"
    },
    {
     "data": {
      "image/png": "[encoded data removed]",
      "text/plain": [
       "<Figure size 432x288 with 1 Axes>"
      ]
     },
     "metadata": {
      "needs_background": "light"
     },
     "output_type": "display_data"
    }
   ],
   "source": [
    "from sklearn.model_selection import train_test_split,cross_val_score\t#划分数据 交叉验证\n",
    "from sklearn.neighbors import KNeighborsClassifier  #一个简单的模型，只有K一个参数，类似K-means\n",
    "import matplotlib.pyplot as plt\n",
    "\n",
    "k_range = range(1,5)\n",
    "cv_scores = []\t\t#用来放每个模型的结果值\n",
    "for n in k_range:\n",
    "    dt_model = DecisionTreeClassifier(max_features=n,criterion='entropy')\n",
    "    scores = cross_val_score(dt_model,x_train,y_train,cv=10,scoring='accuracy')  #cv：选择每次测试折数  accuracy：评价指标是准确度,可以省略使用默认值\n",
    "    cv_scores.append(scores.mean())\n",
    "plt.plot(k_range,cv_scores)\n",
    "plt.xlabel('entropy')\n",
    "plt.ylabel('Accuracy')\t\t#通过图像选择最好的参数\n",
    "plt.show()\n",
    "\n",
    "k_range = range(1,5)\n",
    "cv_scores = []\n",
    "for n in k_range:\n",
    "    dt_model = DecisionTreeClassifier(max_features=n,criterion='gini')\n",
    "    scores = cross_val_score(dt_model,x_train,y_train,cv=10,scoring='accuracy')  #cv：选择每次测试折数  accuracy：评价指标是准确度,可以省略使用默认值\n",
    "    cv_scores.append(scores.mean())\n",
    "plt.plot(k_range,cv_scores)\n",
    "plt.xlabel('gini')\n",
    "plt.ylabel('Accuracy')\t\t#通过图像选择最好的参数\n",
    "plt.show()"
   ]
  },
  {
   "cell_type": "code",
   "execution_count": 18,
   "metadata": {},
   "outputs": [
    {
     "data": {
      "image/png": "[encoded data removed]",
      "text/plain": [
       "<Figure size 432x288 with 1 Axes>"
      ]
     },
     "metadata": {
      "needs_background": "light"
     },
     "output_type": "display_data"
    }
   ],
   "source": [
    "from sklearn.model_selection import train_test_split,cross_val_score\t#划分数据 交叉验证\n",
    "import matplotlib.pyplot as plt\n",
    "\n",
    "k_range = range(1,5)\n",
    "cv_scores = []\t\t#用来放每个模型的结果值\n",
    "for n in k_range:\n",
    "    dt_model = DecisionTreeClassifier(max_features=n,)\n",
    "    scores = cross_val_score(dt_model,x_train,y_train,cv=10,scoring='accuracy')  #cv：选择每次测试折数  accuracy：评价指标是准确度,可以省略使用默认值\n",
    "    cv_scores.append(scores.mean())\n",
    "plt.plot(k_range,cv_scores)\n",
    "plt.xlabel('K')\n",
    "plt.ylabel('Accuracy')\t\t#通过图像选择最好的参数\n",
    "plt.show()"
   ]
  },
  {
   "cell_type": "markdown",
   "metadata": {},
   "source": [
    "# Problem B"
   ]
  },
  {
   "cell_type": "code",
   "execution_count": 23,
   "metadata": {},
   "outputs": [],
   "source": [
    "from sklearn.ensemble import RandomForestClassifier"
   ]
  },
  {
   "cell_type": "code",
   "execution_count": 25,
   "metadata": {},
   "outputs": [
    {
     "name": "stdout",
     "output_type": "stream",
     "text": [
      "训练数据集样本数目：105,测试数据集样本数目：45\n"
     ]
    }
   ],
   "source": [
    "x_train1, x_test1, y_train1, y_test1 = train_test_split(x, y, \n",
    "  train_size=0.7, random_state=14)\n",
    "\n",
    "x_train, x_test, y_train, y_test = x_train1, x_test1, y_train1, y_test1\n",
    "print(\"训练数据集样本数目：%d,测试数据集样本数目：%d\" % (x_train.shape[0], x_test.shape[0]))\n",
    "\n",
    "#astype：转换数组的数据类型。\n",
    "y_train = y_train.astype(np.int)\n",
    "y_test = y_test.astype(np.int)"
   ]
  },
  {
   "cell_type": "code",
   "execution_count": 26,
   "metadata": {},
   "outputs": [
    {
     "name": "stdout",
     "output_type": "stream",
     "text": [
      "得分： 0.9555555555555556\n"
     ]
    }
   ],
   "source": [
    "rf0 = RandomForestClassifier(criterion='entropy',n_estimators=10)\n",
    "rf0.fit(x_train, y_train)\n",
    "score = rf0.score(x_test,y_test)\n",
    "\n",
    "print('得分：',score)"
   ]
  },
  {
   "cell_type": "code",
   "execution_count": 27,
   "metadata": {},
   "outputs": [
    {
     "data": {
      "image/png": "[encoded data removed]",
      "text/plain": [
       "<Figure size 432x288 with 1 Axes>"
      ]
     },
     "metadata": {
      "needs_background": "light"
     },
     "output_type": "display_data"
    }
   ],
   "source": [
    "from sklearn.model_selection import train_test_split,cross_val_score\t#划分数据 交叉验证\n",
    "import matplotlib.pyplot as plt\n",
    "\n",
    "k_range = range(1,6)\n",
    "cv_scores = []\t\t#用来放每个模型的结果值\n",
    "for n in k_range:\n",
    "    rf0 = RandomForestClassifier(max_depth=n)\n",
    "    scores = cross_val_score(rf0,x_train,y_train,cv=10,scoring='accuracy')  #cv：选择每次测试折数  accuracy：评价指标是准确度,可以省略使用默认值\n",
    "    cv_scores.append(scores.mean())\n",
    "plt.plot(k_range,cv_scores)\n",
    "plt.xlabel('max_depth')\n",
    "plt.ylabel('Accuracy')\t\t#通过图像选择最好的参数\n",
    "plt.show()"
   ]
  },
  {
   "cell_type": "code",
   "execution_count": 28,
   "metadata": {},
   "outputs": [
    {
     "data": {
      "image/png": "[encoded data removed]",
      "text/plain": [
       "<Figure size 432x288 with 1 Axes>"
      ]
     },
     "metadata": {
      "needs_background": "light"
     },
     "output_type": "display_data"
    }
   ],
   "source": [
    "from sklearn.model_selection import train_test_split,cross_val_score\t#划分数据 交叉验证\n",
    "import matplotlib.pyplot as plt\n",
    "\n",
    "k_range = range(1,21)\n",
    "cv_scores = []\t\t#用来放每个模型的结果值\n",
    "for n in k_range:\n",
    "    rf0 = RandomForestClassifier(n_estimators=n)\n",
    "    scores = cross_val_score(rf0,x_train,y_train,cv=10,scoring='accuracy')  #cv：选择每次测试折数  accuracy：评价指标是准确度,可以省略使用默认值\n",
    "    cv_scores.append(scores.mean())\n",
    "plt.plot(k_range,cv_scores)\n",
    "plt.xlabel('n_estimators')\n",
    "plt.ylabel('Accuracy')\t\t#通过图像选择最好的参数\n",
    "plt.show()"
   ]
  },
  {
   "cell_type": "code",
   "execution_count": null,
   "metadata": {},
   "outputs": [],
   "source": []
  }
 ],
 "metadata": {
  "kernelspec": {
   "display_name": "Python 3",
   "language": "python",
   "name": "python3"
  },
  "language_info": {
   "codemirror_mode": {
    "name": "ipython",
    "version": 3
   },
   "file_extension": ".py",
   "mimetype": "text/x-python",
   "name": "python",
   "nbconvert_exporter": "python",
   "pygments_lexer": "ipython3",
   "version": "3.7.3"
  }
 },
 "nbformat": 4,
 "nbformat_minor": 2
}
