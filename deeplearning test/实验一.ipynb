{
 "cells": [
  {
   "cell_type": "code",
   "execution_count": 13,
   "metadata": {},
   "outputs": [
    {
     "name": "stdout",
     "output_type": "stream",
     "text": [
      "\n",
      "1 2 3 4\n"
     ]
    }
   ],
   "source": [
    "print();\n",
    "print(\"1 2 3 4\");"
   ]
  },
  {
   "cell_type": "code",
   "execution_count": 22,
   "metadata": {},
   "outputs": [
    {
     "name": "stdout",
     "output_type": "stream",
     "text": [
      "圆的周长是:18.84955592153876    圆的面积是:28.274333882308138.\n"
     ]
    }
   ],
   "source": [
    "import math\n",
    "r = 3.0;\n",
    "area=r*r*math.pi;\n",
    "perimeter=r*2*math.pi;\n",
    "print(\"圆的周长是:\"+str(perimeter)+\"    圆的面积是:\"+str(area)+\".\");"
   ]
  },
  {
   "cell_type": "code",
   "execution_count": 23,
   "metadata": {},
   "outputs": [
    {
     "name": "stdout",
     "output_type": "stream",
     "text": [
      "5.0\n"
     ]
    }
   ],
   "source": [
    "import math\n",
    "def howlong(len1,len2):\n",
    "    return math.sqrt(len1*len1+len2*len2);\n",
    "print(howlong(3,4));//测试函数的正确性"
   ]
  },
  {
   "cell_type": "code",
   "execution_count": 30,
   "metadata": {},
   "outputs": [
    {
     "name": "stdout",
     "output_type": "stream",
     "text": [
      "1\n",
      "2\n",
      "3\n",
      "4\n",
      "5\n"
     ]
    }
   ],
   "source": [
    "alist = [1,2,3,4,5]\n",
    "for a in alist://使用for循环输出列表中的元素\n",
    "    print(a);"
   ]
  },
  {
   "cell_type": "code",
   "execution_count": null,
   "metadata": {},
   "outputs": [],
   "source": []
  }
 ],
 "metadata": {
  "kernelspec": {
   "display_name": "Python 3",
   "language": "python",
   "name": "python3"
  },
  "language_info": {
   "codemirror_mode": {
    "name": "ipython",
    "version": 3
   },
   "file_extension": ".py",
   "mimetype": "text/x-python",
   "name": "python",
   "nbconvert_exporter": "python",
   "pygments_lexer": "ipython3",
   "version": "3.6.5"
  }
 },
 "nbformat": 4,
 "nbformat_minor": 2
}
